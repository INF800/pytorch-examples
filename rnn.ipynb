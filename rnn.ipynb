{
  "nbformat": 4,
  "nbformat_minor": 0,
  "metadata": {
    "colab": {
      "name": "rnn.ipynb",
      "provenance": [],
      "authorship_tag": "ABX9TyOHNa0lnRTfafr3H5L9f6i/",
      "include_colab_link": true
    },
    "kernelspec": {
      "name": "python3",
      "display_name": "Python 3"
    },
    "accelerator": "GPU",
    "widgets": {
      "application/vnd.jupyter.widget-state+json": {
        "9fff0d0c664b47c9ad4db8da49970382": {
          "model_module": "@jupyter-widgets/controls",
          "model_name": "HBoxModel",
          "state": {
            "_view_name": "HBoxView",
            "_dom_classes": [],
            "_model_name": "HBoxModel",
            "_view_module": "@jupyter-widgets/controls",
            "_model_module_version": "1.5.0",
            "_view_count": null,
            "_view_module_version": "1.5.0",
            "box_style": "",
            "layout": "IPY_MODEL_eb631c313b8543b48c51072252ded538",
            "_model_module": "@jupyter-widgets/controls",
            "children": [
              "IPY_MODEL_777e66d6f5654a2e8fc3b82c94a58a8c",
              "IPY_MODEL_9245fdcea9194f4d9d0b1c4c490988c0"
            ]
          }
        },
        "eb631c313b8543b48c51072252ded538": {
          "model_module": "@jupyter-widgets/base",
          "model_name": "LayoutModel",
          "state": {
            "_view_name": "LayoutView",
            "grid_template_rows": null,
            "right": null,
            "justify_content": null,
            "_view_module": "@jupyter-widgets/base",
            "overflow": null,
            "_model_module_version": "1.2.0",
            "_view_count": null,
            "flex_flow": null,
            "width": null,
            "min_width": null,
            "border": null,
            "align_items": null,
            "bottom": null,
            "_model_module": "@jupyter-widgets/base",
            "top": null,
            "grid_column": null,
            "overflow_y": null,
            "overflow_x": null,
            "grid_auto_flow": null,
            "grid_area": null,
            "grid_template_columns": null,
            "flex": null,
            "_model_name": "LayoutModel",
            "justify_items": null,
            "grid_row": null,
            "max_height": null,
            "align_content": null,
            "visibility": null,
            "align_self": null,
            "height": null,
            "min_height": null,
            "padding": null,
            "grid_auto_rows": null,
            "grid_gap": null,
            "max_width": null,
            "order": null,
            "_view_module_version": "1.2.0",
            "grid_template_areas": null,
            "object_position": null,
            "object_fit": null,
            "grid_auto_columns": null,
            "margin": null,
            "display": null,
            "left": null
          }
        },
        "777e66d6f5654a2e8fc3b82c94a58a8c": {
          "model_module": "@jupyter-widgets/controls",
          "model_name": "FloatProgressModel",
          "state": {
            "_view_name": "ProgressView",
            "style": "IPY_MODEL_be1f2d0567314c0f8028840de4182986",
            "_dom_classes": [],
            "description": "",
            "_model_name": "FloatProgressModel",
            "bar_style": "success",
            "max": 1,
            "_view_module": "@jupyter-widgets/controls",
            "_model_module_version": "1.5.0",
            "value": 1,
            "_view_count": null,
            "_view_module_version": "1.5.0",
            "orientation": "horizontal",
            "min": 0,
            "description_tooltip": null,
            "_model_module": "@jupyter-widgets/controls",
            "layout": "IPY_MODEL_7b94a875beaf45158705c16478a80eec"
          }
        },
        "9245fdcea9194f4d9d0b1c4c490988c0": {
          "model_module": "@jupyter-widgets/controls",
          "model_name": "HTMLModel",
          "state": {
            "_view_name": "HTMLView",
            "style": "IPY_MODEL_e24d54fa8f8b41f880a2060b568437f8",
            "_dom_classes": [],
            "description": "",
            "_model_name": "HTMLModel",
            "placeholder": "​",
            "_view_module": "@jupyter-widgets/controls",
            "_model_module_version": "1.5.0",
            "value": " 9920512/? [00:03&lt;00:00, 2988196.00it/s]",
            "_view_count": null,
            "_view_module_version": "1.5.0",
            "description_tooltip": null,
            "_model_module": "@jupyter-widgets/controls",
            "layout": "IPY_MODEL_e446f3c46a83434688c78af0acd58555"
          }
        },
        "be1f2d0567314c0f8028840de4182986": {
          "model_module": "@jupyter-widgets/controls",
          "model_name": "ProgressStyleModel",
          "state": {
            "_view_name": "StyleView",
            "_model_name": "ProgressStyleModel",
            "description_width": "initial",
            "_view_module": "@jupyter-widgets/base",
            "_model_module_version": "1.5.0",
            "_view_count": null,
            "_view_module_version": "1.2.0",
            "bar_color": null,
            "_model_module": "@jupyter-widgets/controls"
          }
        },
        "7b94a875beaf45158705c16478a80eec": {
          "model_module": "@jupyter-widgets/base",
          "model_name": "LayoutModel",
          "state": {
            "_view_name": "LayoutView",
            "grid_template_rows": null,
            "right": null,
            "justify_content": null,
            "_view_module": "@jupyter-widgets/base",
            "overflow": null,
            "_model_module_version": "1.2.0",
            "_view_count": null,
            "flex_flow": null,
            "width": null,
            "min_width": null,
            "border": null,
            "align_items": null,
            "bottom": null,
            "_model_module": "@jupyter-widgets/base",
            "top": null,
            "grid_column": null,
            "overflow_y": null,
            "overflow_x": null,
            "grid_auto_flow": null,
            "grid_area": null,
            "grid_template_columns": null,
            "flex": null,
            "_model_name": "LayoutModel",
            "justify_items": null,
            "grid_row": null,
            "max_height": null,
            "align_content": null,
            "visibility": null,
            "align_self": null,
            "height": null,
            "min_height": null,
            "padding": null,
            "grid_auto_rows": null,
            "grid_gap": null,
            "max_width": null,
            "order": null,
            "_view_module_version": "1.2.0",
            "grid_template_areas": null,
            "object_position": null,
            "object_fit": null,
            "grid_auto_columns": null,
            "margin": null,
            "display": null,
            "left": null
          }
        },
        "e24d54fa8f8b41f880a2060b568437f8": {
          "model_module": "@jupyter-widgets/controls",
          "model_name": "DescriptionStyleModel",
          "state": {
            "_view_name": "StyleView",
            "_model_name": "DescriptionStyleModel",
            "description_width": "",
            "_view_module": "@jupyter-widgets/base",
            "_model_module_version": "1.5.0",
            "_view_count": null,
            "_view_module_version": "1.2.0",
            "_model_module": "@jupyter-widgets/controls"
          }
        },
        "e446f3c46a83434688c78af0acd58555": {
          "model_module": "@jupyter-widgets/base",
          "model_name": "LayoutModel",
          "state": {
            "_view_name": "LayoutView",
            "grid_template_rows": null,
            "right": null,
            "justify_content": null,
            "_view_module": "@jupyter-widgets/base",
            "overflow": null,
            "_model_module_version": "1.2.0",
            "_view_count": null,
            "flex_flow": null,
            "width": null,
            "min_width": null,
            "border": null,
            "align_items": null,
            "bottom": null,
            "_model_module": "@jupyter-widgets/base",
            "top": null,
            "grid_column": null,
            "overflow_y": null,
            "overflow_x": null,
            "grid_auto_flow": null,
            "grid_area": null,
            "grid_template_columns": null,
            "flex": null,
            "_model_name": "LayoutModel",
            "justify_items": null,
            "grid_row": null,
            "max_height": null,
            "align_content": null,
            "visibility": null,
            "align_self": null,
            "height": null,
            "min_height": null,
            "padding": null,
            "grid_auto_rows": null,
            "grid_gap": null,
            "max_width": null,
            "order": null,
            "_view_module_version": "1.2.0",
            "grid_template_areas": null,
            "object_position": null,
            "object_fit": null,
            "grid_auto_columns": null,
            "margin": null,
            "display": null,
            "left": null
          }
        },
        "4fcf155f90114a30b3ff143e6ce67596": {
          "model_module": "@jupyter-widgets/controls",
          "model_name": "HBoxModel",
          "state": {
            "_view_name": "HBoxView",
            "_dom_classes": [],
            "_model_name": "HBoxModel",
            "_view_module": "@jupyter-widgets/controls",
            "_model_module_version": "1.5.0",
            "_view_count": null,
            "_view_module_version": "1.5.0",
            "box_style": "",
            "layout": "IPY_MODEL_d7cf025fbb3a4488b701327f0cdf61be",
            "_model_module": "@jupyter-widgets/controls",
            "children": [
              "IPY_MODEL_609cb4eccd2c4763a1466c66c8bb5025",
              "IPY_MODEL_dbe9f2062a394b33b9d97bc8bb1a42fe"
            ]
          }
        },
        "d7cf025fbb3a4488b701327f0cdf61be": {
          "model_module": "@jupyter-widgets/base",
          "model_name": "LayoutModel",
          "state": {
            "_view_name": "LayoutView",
            "grid_template_rows": null,
            "right": null,
            "justify_content": null,
            "_view_module": "@jupyter-widgets/base",
            "overflow": null,
            "_model_module_version": "1.2.0",
            "_view_count": null,
            "flex_flow": null,
            "width": null,
            "min_width": null,
            "border": null,
            "align_items": null,
            "bottom": null,
            "_model_module": "@jupyter-widgets/base",
            "top": null,
            "grid_column": null,
            "overflow_y": null,
            "overflow_x": null,
            "grid_auto_flow": null,
            "grid_area": null,
            "grid_template_columns": null,
            "flex": null,
            "_model_name": "LayoutModel",
            "justify_items": null,
            "grid_row": null,
            "max_height": null,
            "align_content": null,
            "visibility": null,
            "align_self": null,
            "height": null,
            "min_height": null,
            "padding": null,
            "grid_auto_rows": null,
            "grid_gap": null,
            "max_width": null,
            "order": null,
            "_view_module_version": "1.2.0",
            "grid_template_areas": null,
            "object_position": null,
            "object_fit": null,
            "grid_auto_columns": null,
            "margin": null,
            "display": null,
            "left": null
          }
        },
        "609cb4eccd2c4763a1466c66c8bb5025": {
          "model_module": "@jupyter-widgets/controls",
          "model_name": "FloatProgressModel",
          "state": {
            "_view_name": "ProgressView",
            "style": "IPY_MODEL_bc56c2cceba342d6b2b77802f803e320",
            "_dom_classes": [],
            "description": "",
            "_model_name": "FloatProgressModel",
            "bar_style": "success",
            "max": 1,
            "_view_module": "@jupyter-widgets/controls",
            "_model_module_version": "1.5.0",
            "value": 1,
            "_view_count": null,
            "_view_module_version": "1.5.0",
            "orientation": "horizontal",
            "min": 0,
            "description_tooltip": null,
            "_model_module": "@jupyter-widgets/controls",
            "layout": "IPY_MODEL_7a88a374057f463796ac5a34c2abe199"
          }
        },
        "dbe9f2062a394b33b9d97bc8bb1a42fe": {
          "model_module": "@jupyter-widgets/controls",
          "model_name": "HTMLModel",
          "state": {
            "_view_name": "HTMLView",
            "style": "IPY_MODEL_bb78d7fd6bdd44af89a33f98f5bdeeca",
            "_dom_classes": [],
            "description": "",
            "_model_name": "HTMLModel",
            "placeholder": "​",
            "_view_module": "@jupyter-widgets/controls",
            "_model_module_version": "1.5.0",
            "value": " 32768/? [00:01&lt;00:00, 32160.92it/s]",
            "_view_count": null,
            "_view_module_version": "1.5.0",
            "description_tooltip": null,
            "_model_module": "@jupyter-widgets/controls",
            "layout": "IPY_MODEL_62a414f5e7944e0883b2790380d9227e"
          }
        },
        "bc56c2cceba342d6b2b77802f803e320": {
          "model_module": "@jupyter-widgets/controls",
          "model_name": "ProgressStyleModel",
          "state": {
            "_view_name": "StyleView",
            "_model_name": "ProgressStyleModel",
            "description_width": "initial",
            "_view_module": "@jupyter-widgets/base",
            "_model_module_version": "1.5.0",
            "_view_count": null,
            "_view_module_version": "1.2.0",
            "bar_color": null,
            "_model_module": "@jupyter-widgets/controls"
          }
        },
        "7a88a374057f463796ac5a34c2abe199": {
          "model_module": "@jupyter-widgets/base",
          "model_name": "LayoutModel",
          "state": {
            "_view_name": "LayoutView",
            "grid_template_rows": null,
            "right": null,
            "justify_content": null,
            "_view_module": "@jupyter-widgets/base",
            "overflow": null,
            "_model_module_version": "1.2.0",
            "_view_count": null,
            "flex_flow": null,
            "width": null,
            "min_width": null,
            "border": null,
            "align_items": null,
            "bottom": null,
            "_model_module": "@jupyter-widgets/base",
            "top": null,
            "grid_column": null,
            "overflow_y": null,
            "overflow_x": null,
            "grid_auto_flow": null,
            "grid_area": null,
            "grid_template_columns": null,
            "flex": null,
            "_model_name": "LayoutModel",
            "justify_items": null,
            "grid_row": null,
            "max_height": null,
            "align_content": null,
            "visibility": null,
            "align_self": null,
            "height": null,
            "min_height": null,
            "padding": null,
            "grid_auto_rows": null,
            "grid_gap": null,
            "max_width": null,
            "order": null,
            "_view_module_version": "1.2.0",
            "grid_template_areas": null,
            "object_position": null,
            "object_fit": null,
            "grid_auto_columns": null,
            "margin": null,
            "display": null,
            "left": null
          }
        },
        "bb78d7fd6bdd44af89a33f98f5bdeeca": {
          "model_module": "@jupyter-widgets/controls",
          "model_name": "DescriptionStyleModel",
          "state": {
            "_view_name": "StyleView",
            "_model_name": "DescriptionStyleModel",
            "description_width": "",
            "_view_module": "@jupyter-widgets/base",
            "_model_module_version": "1.5.0",
            "_view_count": null,
            "_view_module_version": "1.2.0",
            "_model_module": "@jupyter-widgets/controls"
          }
        },
        "62a414f5e7944e0883b2790380d9227e": {
          "model_module": "@jupyter-widgets/base",
          "model_name": "LayoutModel",
          "state": {
            "_view_name": "LayoutView",
            "grid_template_rows": null,
            "right": null,
            "justify_content": null,
            "_view_module": "@jupyter-widgets/base",
            "overflow": null,
            "_model_module_version": "1.2.0",
            "_view_count": null,
            "flex_flow": null,
            "width": null,
            "min_width": null,
            "border": null,
            "align_items": null,
            "bottom": null,
            "_model_module": "@jupyter-widgets/base",
            "top": null,
            "grid_column": null,
            "overflow_y": null,
            "overflow_x": null,
            "grid_auto_flow": null,
            "grid_area": null,
            "grid_template_columns": null,
            "flex": null,
            "_model_name": "LayoutModel",
            "justify_items": null,
            "grid_row": null,
            "max_height": null,
            "align_content": null,
            "visibility": null,
            "align_self": null,
            "height": null,
            "min_height": null,
            "padding": null,
            "grid_auto_rows": null,
            "grid_gap": null,
            "max_width": null,
            "order": null,
            "_view_module_version": "1.2.0",
            "grid_template_areas": null,
            "object_position": null,
            "object_fit": null,
            "grid_auto_columns": null,
            "margin": null,
            "display": null,
            "left": null
          }
        },
        "de4270f41a97497b8cf142ce4d326d97": {
          "model_module": "@jupyter-widgets/controls",
          "model_name": "HBoxModel",
          "state": {
            "_view_name": "HBoxView",
            "_dom_classes": [],
            "_model_name": "HBoxModel",
            "_view_module": "@jupyter-widgets/controls",
            "_model_module_version": "1.5.0",
            "_view_count": null,
            "_view_module_version": "1.5.0",
            "box_style": "",
            "layout": "IPY_MODEL_d3a402ef18074ecf81afec74ccd35ea6",
            "_model_module": "@jupyter-widgets/controls",
            "children": [
              "IPY_MODEL_a9334d20769a46caa0579856e8da34bb",
              "IPY_MODEL_90249a8df8c54d38a6f933d83d52c4ba"
            ]
          }
        },
        "d3a402ef18074ecf81afec74ccd35ea6": {
          "model_module": "@jupyter-widgets/base",
          "model_name": "LayoutModel",
          "state": {
            "_view_name": "LayoutView",
            "grid_template_rows": null,
            "right": null,
            "justify_content": null,
            "_view_module": "@jupyter-widgets/base",
            "overflow": null,
            "_model_module_version": "1.2.0",
            "_view_count": null,
            "flex_flow": null,
            "width": null,
            "min_width": null,
            "border": null,
            "align_items": null,
            "bottom": null,
            "_model_module": "@jupyter-widgets/base",
            "top": null,
            "grid_column": null,
            "overflow_y": null,
            "overflow_x": null,
            "grid_auto_flow": null,
            "grid_area": null,
            "grid_template_columns": null,
            "flex": null,
            "_model_name": "LayoutModel",
            "justify_items": null,
            "grid_row": null,
            "max_height": null,
            "align_content": null,
            "visibility": null,
            "align_self": null,
            "height": null,
            "min_height": null,
            "padding": null,
            "grid_auto_rows": null,
            "grid_gap": null,
            "max_width": null,
            "order": null,
            "_view_module_version": "1.2.0",
            "grid_template_areas": null,
            "object_position": null,
            "object_fit": null,
            "grid_auto_columns": null,
            "margin": null,
            "display": null,
            "left": null
          }
        },
        "a9334d20769a46caa0579856e8da34bb": {
          "model_module": "@jupyter-widgets/controls",
          "model_name": "FloatProgressModel",
          "state": {
            "_view_name": "ProgressView",
            "style": "IPY_MODEL_67ee85ff3b57490dafcda87a2a2809b6",
            "_dom_classes": [],
            "description": "",
            "_model_name": "FloatProgressModel",
            "bar_style": "success",
            "max": 1,
            "_view_module": "@jupyter-widgets/controls",
            "_model_module_version": "1.5.0",
            "value": 1,
            "_view_count": null,
            "_view_module_version": "1.5.0",
            "orientation": "horizontal",
            "min": 0,
            "description_tooltip": null,
            "_model_module": "@jupyter-widgets/controls",
            "layout": "IPY_MODEL_e93b439908214318a097f26108a83881"
          }
        },
        "90249a8df8c54d38a6f933d83d52c4ba": {
          "model_module": "@jupyter-widgets/controls",
          "model_name": "HTMLModel",
          "state": {
            "_view_name": "HTMLView",
            "style": "IPY_MODEL_fe6b34d9a0604e36829da6c603c45000",
            "_dom_classes": [],
            "description": "",
            "_model_name": "HTMLModel",
            "placeholder": "​",
            "_view_module": "@jupyter-widgets/controls",
            "_model_module_version": "1.5.0",
            "value": " 1654784/? [00:00&lt;00:00, 2247752.03it/s]",
            "_view_count": null,
            "_view_module_version": "1.5.0",
            "description_tooltip": null,
            "_model_module": "@jupyter-widgets/controls",
            "layout": "IPY_MODEL_b3117810f2fa488db3d4de3d64090ab8"
          }
        },
        "67ee85ff3b57490dafcda87a2a2809b6": {
          "model_module": "@jupyter-widgets/controls",
          "model_name": "ProgressStyleModel",
          "state": {
            "_view_name": "StyleView",
            "_model_name": "ProgressStyleModel",
            "description_width": "initial",
            "_view_module": "@jupyter-widgets/base",
            "_model_module_version": "1.5.0",
            "_view_count": null,
            "_view_module_version": "1.2.0",
            "bar_color": null,
            "_model_module": "@jupyter-widgets/controls"
          }
        },
        "e93b439908214318a097f26108a83881": {
          "model_module": "@jupyter-widgets/base",
          "model_name": "LayoutModel",
          "state": {
            "_view_name": "LayoutView",
            "grid_template_rows": null,
            "right": null,
            "justify_content": null,
            "_view_module": "@jupyter-widgets/base",
            "overflow": null,
            "_model_module_version": "1.2.0",
            "_view_count": null,
            "flex_flow": null,
            "width": null,
            "min_width": null,
            "border": null,
            "align_items": null,
            "bottom": null,
            "_model_module": "@jupyter-widgets/base",
            "top": null,
            "grid_column": null,
            "overflow_y": null,
            "overflow_x": null,
            "grid_auto_flow": null,
            "grid_area": null,
            "grid_template_columns": null,
            "flex": null,
            "_model_name": "LayoutModel",
            "justify_items": null,
            "grid_row": null,
            "max_height": null,
            "align_content": null,
            "visibility": null,
            "align_self": null,
            "height": null,
            "min_height": null,
            "padding": null,
            "grid_auto_rows": null,
            "grid_gap": null,
            "max_width": null,
            "order": null,
            "_view_module_version": "1.2.0",
            "grid_template_areas": null,
            "object_position": null,
            "object_fit": null,
            "grid_auto_columns": null,
            "margin": null,
            "display": null,
            "left": null
          }
        },
        "fe6b34d9a0604e36829da6c603c45000": {
          "model_module": "@jupyter-widgets/controls",
          "model_name": "DescriptionStyleModel",
          "state": {
            "_view_name": "StyleView",
            "_model_name": "DescriptionStyleModel",
            "description_width": "",
            "_view_module": "@jupyter-widgets/base",
            "_model_module_version": "1.5.0",
            "_view_count": null,
            "_view_module_version": "1.2.0",
            "_model_module": "@jupyter-widgets/controls"
          }
        },
        "b3117810f2fa488db3d4de3d64090ab8": {
          "model_module": "@jupyter-widgets/base",
          "model_name": "LayoutModel",
          "state": {
            "_view_name": "LayoutView",
            "grid_template_rows": null,
            "right": null,
            "justify_content": null,
            "_view_module": "@jupyter-widgets/base",
            "overflow": null,
            "_model_module_version": "1.2.0",
            "_view_count": null,
            "flex_flow": null,
            "width": null,
            "min_width": null,
            "border": null,
            "align_items": null,
            "bottom": null,
            "_model_module": "@jupyter-widgets/base",
            "top": null,
            "grid_column": null,
            "overflow_y": null,
            "overflow_x": null,
            "grid_auto_flow": null,
            "grid_area": null,
            "grid_template_columns": null,
            "flex": null,
            "_model_name": "LayoutModel",
            "justify_items": null,
            "grid_row": null,
            "max_height": null,
            "align_content": null,
            "visibility": null,
            "align_self": null,
            "height": null,
            "min_height": null,
            "padding": null,
            "grid_auto_rows": null,
            "grid_gap": null,
            "max_width": null,
            "order": null,
            "_view_module_version": "1.2.0",
            "grid_template_areas": null,
            "object_position": null,
            "object_fit": null,
            "grid_auto_columns": null,
            "margin": null,
            "display": null,
            "left": null
          }
        },
        "277d76bcb4ba4fb883c153cf81d6748c": {
          "model_module": "@jupyter-widgets/controls",
          "model_name": "HBoxModel",
          "state": {
            "_view_name": "HBoxView",
            "_dom_classes": [],
            "_model_name": "HBoxModel",
            "_view_module": "@jupyter-widgets/controls",
            "_model_module_version": "1.5.0",
            "_view_count": null,
            "_view_module_version": "1.5.0",
            "box_style": "",
            "layout": "IPY_MODEL_dcfc24ac1f2b44d9aa34c7286a2a86b1",
            "_model_module": "@jupyter-widgets/controls",
            "children": [
              "IPY_MODEL_1ccc623e424e4c2eb71bcbeb97051128",
              "IPY_MODEL_5a070dbb67264280bb66e29d6e2607c9"
            ]
          }
        },
        "dcfc24ac1f2b44d9aa34c7286a2a86b1": {
          "model_module": "@jupyter-widgets/base",
          "model_name": "LayoutModel",
          "state": {
            "_view_name": "LayoutView",
            "grid_template_rows": null,
            "right": null,
            "justify_content": null,
            "_view_module": "@jupyter-widgets/base",
            "overflow": null,
            "_model_module_version": "1.2.0",
            "_view_count": null,
            "flex_flow": null,
            "width": null,
            "min_width": null,
            "border": null,
            "align_items": null,
            "bottom": null,
            "_model_module": "@jupyter-widgets/base",
            "top": null,
            "grid_column": null,
            "overflow_y": null,
            "overflow_x": null,
            "grid_auto_flow": null,
            "grid_area": null,
            "grid_template_columns": null,
            "flex": null,
            "_model_name": "LayoutModel",
            "justify_items": null,
            "grid_row": null,
            "max_height": null,
            "align_content": null,
            "visibility": null,
            "align_self": null,
            "height": null,
            "min_height": null,
            "padding": null,
            "grid_auto_rows": null,
            "grid_gap": null,
            "max_width": null,
            "order": null,
            "_view_module_version": "1.2.0",
            "grid_template_areas": null,
            "object_position": null,
            "object_fit": null,
            "grid_auto_columns": null,
            "margin": null,
            "display": null,
            "left": null
          }
        },
        "1ccc623e424e4c2eb71bcbeb97051128": {
          "model_module": "@jupyter-widgets/controls",
          "model_name": "FloatProgressModel",
          "state": {
            "_view_name": "ProgressView",
            "style": "IPY_MODEL_74b2bd34430c425eaf7b950596a1ae66",
            "_dom_classes": [],
            "description": "",
            "_model_name": "FloatProgressModel",
            "bar_style": "success",
            "max": 1,
            "_view_module": "@jupyter-widgets/controls",
            "_model_module_version": "1.5.0",
            "value": 1,
            "_view_count": null,
            "_view_module_version": "1.5.0",
            "orientation": "horizontal",
            "min": 0,
            "description_tooltip": null,
            "_model_module": "@jupyter-widgets/controls",
            "layout": "IPY_MODEL_36ae7847bf9646fca24dbc3ebf9014c8"
          }
        },
        "5a070dbb67264280bb66e29d6e2607c9": {
          "model_module": "@jupyter-widgets/controls",
          "model_name": "HTMLModel",
          "state": {
            "_view_name": "HTMLView",
            "style": "IPY_MODEL_01e6742f00c04c3eab5397b18c2af2d2",
            "_dom_classes": [],
            "description": "",
            "_model_name": "HTMLModel",
            "placeholder": "​",
            "_view_module": "@jupyter-widgets/controls",
            "_model_module_version": "1.5.0",
            "value": " 8192/? [00:00&lt;00:00, 9104.43it/s]",
            "_view_count": null,
            "_view_module_version": "1.5.0",
            "description_tooltip": null,
            "_model_module": "@jupyter-widgets/controls",
            "layout": "IPY_MODEL_145ae7fcd0a04b1faed531b56c0af68b"
          }
        },
        "74b2bd34430c425eaf7b950596a1ae66": {
          "model_module": "@jupyter-widgets/controls",
          "model_name": "ProgressStyleModel",
          "state": {
            "_view_name": "StyleView",
            "_model_name": "ProgressStyleModel",
            "description_width": "initial",
            "_view_module": "@jupyter-widgets/base",
            "_model_module_version": "1.5.0",
            "_view_count": null,
            "_view_module_version": "1.2.0",
            "bar_color": null,
            "_model_module": "@jupyter-widgets/controls"
          }
        },
        "36ae7847bf9646fca24dbc3ebf9014c8": {
          "model_module": "@jupyter-widgets/base",
          "model_name": "LayoutModel",
          "state": {
            "_view_name": "LayoutView",
            "grid_template_rows": null,
            "right": null,
            "justify_content": null,
            "_view_module": "@jupyter-widgets/base",
            "overflow": null,
            "_model_module_version": "1.2.0",
            "_view_count": null,
            "flex_flow": null,
            "width": null,
            "min_width": null,
            "border": null,
            "align_items": null,
            "bottom": null,
            "_model_module": "@jupyter-widgets/base",
            "top": null,
            "grid_column": null,
            "overflow_y": null,
            "overflow_x": null,
            "grid_auto_flow": null,
            "grid_area": null,
            "grid_template_columns": null,
            "flex": null,
            "_model_name": "LayoutModel",
            "justify_items": null,
            "grid_row": null,
            "max_height": null,
            "align_content": null,
            "visibility": null,
            "align_self": null,
            "height": null,
            "min_height": null,
            "padding": null,
            "grid_auto_rows": null,
            "grid_gap": null,
            "max_width": null,
            "order": null,
            "_view_module_version": "1.2.0",
            "grid_template_areas": null,
            "object_position": null,
            "object_fit": null,
            "grid_auto_columns": null,
            "margin": null,
            "display": null,
            "left": null
          }
        },
        "01e6742f00c04c3eab5397b18c2af2d2": {
          "model_module": "@jupyter-widgets/controls",
          "model_name": "DescriptionStyleModel",
          "state": {
            "_view_name": "StyleView",
            "_model_name": "DescriptionStyleModel",
            "description_width": "",
            "_view_module": "@jupyter-widgets/base",
            "_model_module_version": "1.5.0",
            "_view_count": null,
            "_view_module_version": "1.2.0",
            "_model_module": "@jupyter-widgets/controls"
          }
        },
        "145ae7fcd0a04b1faed531b56c0af68b": {
          "model_module": "@jupyter-widgets/base",
          "model_name": "LayoutModel",
          "state": {
            "_view_name": "LayoutView",
            "grid_template_rows": null,
            "right": null,
            "justify_content": null,
            "_view_module": "@jupyter-widgets/base",
            "overflow": null,
            "_model_module_version": "1.2.0",
            "_view_count": null,
            "flex_flow": null,
            "width": null,
            "min_width": null,
            "border": null,
            "align_items": null,
            "bottom": null,
            "_model_module": "@jupyter-widgets/base",
            "top": null,
            "grid_column": null,
            "overflow_y": null,
            "overflow_x": null,
            "grid_auto_flow": null,
            "grid_area": null,
            "grid_template_columns": null,
            "flex": null,
            "_model_name": "LayoutModel",
            "justify_items": null,
            "grid_row": null,
            "max_height": null,
            "align_content": null,
            "visibility": null,
            "align_self": null,
            "height": null,
            "min_height": null,
            "padding": null,
            "grid_auto_rows": null,
            "grid_gap": null,
            "max_width": null,
            "order": null,
            "_view_module_version": "1.2.0",
            "grid_template_areas": null,
            "object_position": null,
            "object_fit": null,
            "grid_auto_columns": null,
            "margin": null,
            "display": null,
            "left": null
          }
        }
      }
    }
  },
  "cells": [
    {
      "cell_type": "markdown",
      "metadata": {
        "id": "view-in-github",
        "colab_type": "text"
      },
      "source": [
        "<a href=\"https://colab.research.google.com/github/rakesh4real/pytorch-examples/blob/main/rnn.ipynb\" target=\"_parent\"><img src=\"https://colab.research.google.com/assets/colab-badge.svg\" alt=\"Open In Colab\"/></a>"
      ]
    },
    {
      "cell_type": "code",
      "metadata": {
        "id": "mMDQ2bGWmAsX"
      },
      "source": [
        "from tqdm import tqdm\n",
        "import torch\n",
        "import torchvision\n",
        "import torch.nn as nn  \n",
        "import torch.optim as optim\n",
        "import torch.nn.functional as F  \n",
        "from torch.utils.data import DataLoader\n",
        "import torchvision.datasets as datasets\n",
        "import torchvision.transforms as transforms"
      ],
      "execution_count": 1,
      "outputs": []
    },
    {
      "cell_type": "code",
      "metadata": {
        "id": "G_4SfU-1nQZ4"
      },
      "source": [
        "device = torch.device(\"cuda\" if torch.cuda.is_available() else \"cpu\")"
      ],
      "execution_count": 2,
      "outputs": []
    },
    {
      "cell_type": "markdown",
      "metadata": {
        "id": "9Zfyh6xQ6h59"
      },
      "source": [
        "---\n",
        "---"
      ]
    },
    {
      "cell_type": "code",
      "metadata": {
        "id": "Yn19mEcMnUFZ"
      },
      "source": [
        "input_size = 28\n",
        "hidden_size = 256\n",
        "n_layers = 2\n",
        "n_classes = 10\n",
        "seq_len = 28\n",
        "learning_rate = 0.005\n",
        "batch_size = 64\n",
        "num_epochs = 2"
      ],
      "execution_count": 3,
      "outputs": []
    },
    {
      "cell_type": "code",
      "metadata": {
        "id": "QPSquaVAnW-5"
      },
      "source": [
        "\"\"\"\n",
        "basic rnn \n",
        "\"\"\"\n",
        "\n",
        "class RNN(nn.Module):\n",
        "  \n",
        "  def __init__(self, seq_length, input_size, n_layers, hidden_size, n_classes):\n",
        "    \"\"\"\n",
        "    :param input_size: num of features of input\n",
        "    \"\"\"\n",
        "    super(RNN, self).__init__()\n",
        "\n",
        "    self.n_layers = n_layers\n",
        "    self.hidden_size = hidden_size\n",
        "\n",
        "    self.rnn = nn.RNN(input_size, self.hidden_size, self.n_layers,\n",
        "                      batch_first = True)\n",
        "    self.fc = nn.Linear(\n",
        "        self.hidden_size*seq_length,\n",
        "        n_classes\n",
        "    )\n",
        "\n",
        "\n",
        "  def forward(self, x):\n",
        "    \"\"\"\n",
        "    :param x: is of shape (batch_size, seq_len, input_size) where `seq_len` is \n",
        "              number of individual sequences and `input_size` is num of features.\n",
        "              For eg.\n",
        "                + In case of text, seq_len is size of word and input_size is\n",
        "                  vocabulary size as it will be ohe\n",
        "                + In case of image, seq_len is height and input_size is width\n",
        "                  (note: same as ohe if you can imagine)\n",
        "\n",
        "                     input size (one-hot vocab size)\n",
        "                   s +-+-+-+-+\n",
        "                   e +-+-+-+-+\n",
        "                   q +-+-+-+-+  ....\n",
        "                     +-+-+-+-+\n",
        "                   l +-+-+-+-+\n",
        "                   e +-+-+-+-+\n",
        "                   n +-+-+-+-+\n",
        "                     +-+-+-+-+\n",
        "\n",
        "    \"\"\"\n",
        "\n",
        "    # 3-D: (n_layers, bath_size, hidden_size)\n",
        "    h0 = torch.zeros(\n",
        "        (self.n_layers, x.shape[0], self.hidden_size)\n",
        "    ).to(device)\n",
        "\n",
        "    # pass\n",
        "    out, _ = self.rnn(x, h0)\n",
        "\n",
        "    # classification layer on output of last time step\n",
        "    out = out.reshape(out.shape[0], -1) # flatten\n",
        "    out = self.fc(out)\n",
        "    \n",
        "    return out"
      ],
      "execution_count": 4,
      "outputs": []
    },
    {
      "cell_type": "code",
      "metadata": {
        "colab": {
          "base_uri": "https://localhost:8080/"
        },
        "id": "6B-8A_16r2SZ",
        "outputId": "fe61f127-72af-45e0-8749-d286bf92340d"
      },
      "source": [
        "# test\n",
        "model = RNN(100, input_size, n_layers, hidden_size, n_classes).to(device)\n",
        "test_batch_seq = torch.rand(64, 100, 28).to(device)\n",
        "\n",
        "model(test_batch_seq).shape"
      ],
      "execution_count": 5,
      "outputs": [
        {
          "output_type": "execute_result",
          "data": {
            "text/plain": [
              "torch.Size([64, 10])"
            ]
          },
          "metadata": {
            "tags": []
          },
          "execution_count": 5
        }
      ]
    },
    {
      "cell_type": "code",
      "metadata": {
        "id": "Tgunbrx1xFE0"
      },
      "source": [
        ""
      ],
      "execution_count": 5,
      "outputs": []
    },
    {
      "cell_type": "code",
      "metadata": {
        "id": "bnroSlLknj3z"
      },
      "source": [
        "\"\"\"\n",
        "rnn gru\n",
        "\n",
        "Only change required is `self.rnn = nn.GRU ...`\n",
        "\"\"\"\n",
        "\n",
        "class RNN_GRU(nn.Module):\n",
        "  \n",
        "  def __init__(self, seq_length, input_size, n_layers, hidden_size, n_classes):\n",
        "    \"\"\"\n",
        "    :param input_size: num of features of input\n",
        "    \"\"\"\n",
        "    super(RNN_GRU, self).__init__()\n",
        "\n",
        "    self.n_layers = n_layers\n",
        "    self.hidden_size = hidden_size\n",
        "\n",
        "    self.rnn = nn.GRU(input_size, self.hidden_size, self.n_layers,\n",
        "                      batch_first = True)\n",
        "    self.fc = nn.Linear(\n",
        "        self.hidden_size*seq_length,\n",
        "        n_classes\n",
        "    )\n",
        "\n",
        "\n",
        "  def forward(self, x):\n",
        "    \"\"\"\n",
        "    :param x: is of shape (batch_size, seq_len, input_size) where `seq_len` is \n",
        "              number of individual sequences and `input_size` is num of features.\n",
        "              For eg.\n",
        "                + In case of text, seq_len is size of word and input_size is\n",
        "                  vocabulary size as it will be ohe\n",
        "                + In case of image, seq_len is height and input_size is width\n",
        "                  (note: same as ohe if you can imagine)\n",
        "\n",
        "                     input size (one-hot vocab size)\n",
        "                   s +-+-+-+-+\n",
        "                   e +-+-+-+-+\n",
        "                   q +-+-+-+-+  ....\n",
        "                     +-+-+-+-+\n",
        "                   l +-+-+-+-+\n",
        "                   e +-+-+-+-+\n",
        "                   n +-+-+-+-+\n",
        "                     +-+-+-+-+\n",
        "\n",
        "    \"\"\"\n",
        "\n",
        "    # 3-D: (n_layers, bath_size, hidden_size)\n",
        "    h0 = torch.zeros(\n",
        "        (self.n_layers, x.shape[0], self.hidden_size)\n",
        "    ).to(device)\n",
        "\n",
        "    # pass\n",
        "    out, _ = self.rnn(x, h0)\n",
        "\n",
        "    # classification layer on output of last time step\n",
        "    out = out.reshape(out.shape[0], -1) # flatten\n",
        "    out = self.fc(out)\n",
        "    \n",
        "    return out\n"
      ],
      "execution_count": 6,
      "outputs": []
    },
    {
      "cell_type": "code",
      "metadata": {
        "colab": {
          "base_uri": "https://localhost:8080/"
        },
        "id": "ldqRj6mJr1Y2",
        "outputId": "f9f9b33b-17f7-43b2-c2ae-723759b4651e"
      },
      "source": [
        "# test\n",
        "model = RNN_GRU(100, input_size, n_layers, hidden_size, n_classes).to(device)\n",
        "test_batch_seq = torch.rand(64, 100, 28).to(device)\n",
        "\n",
        "model(test_batch_seq).shape"
      ],
      "execution_count": 7,
      "outputs": [
        {
          "output_type": "execute_result",
          "data": {
            "text/plain": [
              "torch.Size([64, 10])"
            ]
          },
          "metadata": {
            "tags": []
          },
          "execution_count": 7
        }
      ]
    },
    {
      "cell_type": "markdown",
      "metadata": {
        "id": "7IdBgOBN2L5m"
      },
      "source": [
        "**Stacked RNN with different hidden size at each layer**\n",
        "\n",
        "```\n",
        "import torch \n",
        "from torch import nn\n",
        "from torch.autograd import Variable\n",
        "\n",
        "# layer1\n",
        "# input_dim=10, output_dim=20\n",
        "rnn1 = nn.LSTM(10, 20, 1)\n",
        "input = Variable(torch.randn(5, 3, 10))\n",
        "output1, hn = rnn1(input)\n",
        "\n",
        "# layer2\n",
        "# input_dim=20 output_dim=30\n",
        "rnn2 = nn.LSTM(20, 30, 1)\n",
        "output2, hn2 = rnn2(output1) \n",
        "```"
      ]
    },
    {
      "cell_type": "code",
      "metadata": {
        "id": "DlGviErxnmNE"
      },
      "source": [
        "\"\"\"\n",
        "rnn lstm\n",
        "\n",
        "only two differences compared to above code:\n",
        "  1. self.lstm = nn.LSTM( ...\n",
        "  2. extra input (memory cells) to lstm\n",
        "\"\"\"\n",
        "\n",
        "\"\"\"\n",
        "rnn gru\n",
        "\n",
        "Only change required is `self.rnn = nn.GRU ...`\n",
        "\"\"\"\n",
        "\n",
        "class RNN_LSTM(nn.Module):\n",
        "  \n",
        "  def __init__(self, seq_length, input_size, n_layers, hidden_size, n_classes):\n",
        "    \"\"\"\n",
        "    :param input_size: num of features of input\n",
        "    \"\"\"\n",
        "    super(RNN_LSTM, self).__init__()\n",
        "\n",
        "    self.n_layers = n_layers\n",
        "    self.hidden_size = hidden_size\n",
        "\n",
        "    self.lstm = nn.LSTM(input_size, self.hidden_size, self.n_layers,\n",
        "                      batch_first = True)\n",
        "    self.fc = nn.Linear(\n",
        "        self.hidden_size*seq_length,\n",
        "        n_classes\n",
        "    )\n",
        "\n",
        "\n",
        "  def forward(self, x):\n",
        "    \"\"\"\n",
        "    :param x: is of shape (batch_size, seq_len, input_size) where `seq_len` is \n",
        "              number of individual sequences and `input_size` is num of features.\n",
        "              For eg.\n",
        "                + In case of text, seq_len is size of word and input_size is\n",
        "                  vocabulary size as it will be ohe\n",
        "                + In case of image, seq_len is height and input_size is width\n",
        "                  (note: same as ohe if you can imagine)\n",
        "\n",
        "                     input size (one-hot vocab size)\n",
        "                   s +-+-+-+-+\n",
        "                   e +-+-+-+-+\n",
        "                   q +-+-+-+-+  ....\n",
        "                     +-+-+-+-+\n",
        "                   l +-+-+-+-+\n",
        "                   e +-+-+-+-+\n",
        "                   n +-+-+-+-+\n",
        "                     +-+-+-+-+\n",
        "\n",
        "    \"\"\"\n",
        "\n",
        "    # 3-D: (n_layers, bath_size, hidden_size)\n",
        "    h0 = torch.zeros(\n",
        "        (self.n_layers, x.shape[0], self.hidden_size)\n",
        "    ).to(device)\n",
        "    c0 = torch.zeros(\n",
        "        (self.n_layers, x.shape[0], self.hidden_size)\n",
        "    ).to(device)\n",
        "\n",
        "    # pass\n",
        "    out, _ = self.lstm(\n",
        "        x, (h0, c0)\n",
        "    ) # out: tensor of shape (batch_size, seq_length, hidden_size)\n",
        "\n",
        "    # classification layer on output of last time step\n",
        "    out = out.reshape(out.shape[0], -1) # flatten\n",
        "    out = self.fc(out)\n",
        "    \n",
        "    return out"
      ],
      "execution_count": 8,
      "outputs": []
    },
    {
      "cell_type": "code",
      "metadata": {
        "colab": {
          "base_uri": "https://localhost:8080/"
        },
        "id": "PsmTHk3_6CuL",
        "outputId": "e19a0938-9b13-4814-834f-7bc455bb0efa"
      },
      "source": [
        "# test\n",
        "model = RNN_LSTM(100, input_size, n_layers, hidden_size, n_classes).to(device)\n",
        "test_batch_seq = torch.rand(64, 100, 28).to(device)\n",
        "\n",
        "model(test_batch_seq).shape"
      ],
      "execution_count": 9,
      "outputs": [
        {
          "output_type": "execute_result",
          "data": {
            "text/plain": [
              "torch.Size([64, 10])"
            ]
          },
          "metadata": {
            "tags": []
          },
          "execution_count": 9
        }
      ]
    },
    {
      "cell_type": "markdown",
      "metadata": {
        "id": "kaWWOckM6bG-"
      },
      "source": [
        "---\n",
        "---"
      ]
    },
    {
      "cell_type": "code",
      "metadata": {
        "colab": {
          "base_uri": "https://localhost:8080/",
          "height": 403,
          "referenced_widgets": [
            "9fff0d0c664b47c9ad4db8da49970382",
            "eb631c313b8543b48c51072252ded538",
            "777e66d6f5654a2e8fc3b82c94a58a8c",
            "9245fdcea9194f4d9d0b1c4c490988c0",
            "be1f2d0567314c0f8028840de4182986",
            "7b94a875beaf45158705c16478a80eec",
            "e24d54fa8f8b41f880a2060b568437f8",
            "e446f3c46a83434688c78af0acd58555",
            "4fcf155f90114a30b3ff143e6ce67596",
            "d7cf025fbb3a4488b701327f0cdf61be",
            "609cb4eccd2c4763a1466c66c8bb5025",
            "dbe9f2062a394b33b9d97bc8bb1a42fe",
            "bc56c2cceba342d6b2b77802f803e320",
            "7a88a374057f463796ac5a34c2abe199",
            "bb78d7fd6bdd44af89a33f98f5bdeeca",
            "62a414f5e7944e0883b2790380d9227e",
            "de4270f41a97497b8cf142ce4d326d97",
            "d3a402ef18074ecf81afec74ccd35ea6",
            "a9334d20769a46caa0579856e8da34bb",
            "90249a8df8c54d38a6f933d83d52c4ba",
            "67ee85ff3b57490dafcda87a2a2809b6",
            "e93b439908214318a097f26108a83881",
            "fe6b34d9a0604e36829da6c603c45000",
            "b3117810f2fa488db3d4de3d64090ab8",
            "277d76bcb4ba4fb883c153cf81d6748c",
            "dcfc24ac1f2b44d9aa34c7286a2a86b1",
            "1ccc623e424e4c2eb71bcbeb97051128",
            "5a070dbb67264280bb66e29d6e2607c9",
            "74b2bd34430c425eaf7b950596a1ae66",
            "36ae7847bf9646fca24dbc3ebf9014c8",
            "01e6742f00c04c3eab5397b18c2af2d2",
            "145ae7fcd0a04b1faed531b56c0af68b"
          ]
        },
        "id": "4QLKTGB1noUn",
        "outputId": "c29f1a14-4ddb-40d5-bfb4-b5637f977b76"
      },
      "source": [
        "\"\"\"\n",
        "load data\n",
        "\"\"\"\n",
        "\n",
        "train_dataset = datasets.MNIST(root=\"dataset/\", train=True, transform=transforms.ToTensor(), download=True)\n",
        "test_dataset = datasets.MNIST(root=\"dataset/\", train=False, transform=transforms.ToTensor(), download=True)\n",
        "\n",
        "train_loader = DataLoader(dataset=train_dataset, batch_size=batch_size, shuffle=True)\n",
        "test_loader = DataLoader(dataset=test_dataset, batch_size=batch_size, shuffle=True)"
      ],
      "execution_count": 10,
      "outputs": [
        {
          "output_type": "stream",
          "text": [
            "Downloading http://yann.lecun.com/exdb/mnist/train-images-idx3-ubyte.gz to dataset/MNIST/raw/train-images-idx3-ubyte.gz\n"
          ],
          "name": "stdout"
        },
        {
          "output_type": "display_data",
          "data": {
            "application/vnd.jupyter.widget-view+json": {
              "model_id": "9fff0d0c664b47c9ad4db8da49970382",
              "version_minor": 0,
              "version_major": 2
            },
            "text/plain": [
              "HBox(children=(FloatProgress(value=1.0, bar_style='info', max=1.0), HTML(value='')))"
            ]
          },
          "metadata": {
            "tags": []
          }
        },
        {
          "output_type": "stream",
          "text": [
            "Extracting dataset/MNIST/raw/train-images-idx3-ubyte.gz to dataset/MNIST/raw\n",
            "Downloading http://yann.lecun.com/exdb/mnist/train-labels-idx1-ubyte.gz to dataset/MNIST/raw/train-labels-idx1-ubyte.gz\n"
          ],
          "name": "stdout"
        },
        {
          "output_type": "display_data",
          "data": {
            "application/vnd.jupyter.widget-view+json": {
              "model_id": "4fcf155f90114a30b3ff143e6ce67596",
              "version_minor": 0,
              "version_major": 2
            },
            "text/plain": [
              "HBox(children=(FloatProgress(value=1.0, bar_style='info', max=1.0), HTML(value='')))"
            ]
          },
          "metadata": {
            "tags": []
          }
        },
        {
          "output_type": "stream",
          "text": [
            "Extracting dataset/MNIST/raw/train-labels-idx1-ubyte.gz to dataset/MNIST/raw\n",
            "Downloading http://yann.lecun.com/exdb/mnist/t10k-images-idx3-ubyte.gz to dataset/MNIST/raw/t10k-images-idx3-ubyte.gz\n"
          ],
          "name": "stdout"
        },
        {
          "output_type": "display_data",
          "data": {
            "application/vnd.jupyter.widget-view+json": {
              "model_id": "de4270f41a97497b8cf142ce4d326d97",
              "version_minor": 0,
              "version_major": 2
            },
            "text/plain": [
              "HBox(children=(FloatProgress(value=1.0, bar_style='info', max=1.0), HTML(value='')))"
            ]
          },
          "metadata": {
            "tags": []
          }
        },
        {
          "output_type": "stream",
          "text": [
            "Extracting dataset/MNIST/raw/t10k-images-idx3-ubyte.gz to dataset/MNIST/raw\n",
            "Downloading http://yann.lecun.com/exdb/mnist/t10k-labels-idx1-ubyte.gz to dataset/MNIST/raw/t10k-labels-idx1-ubyte.gz\n",
            "\n",
            "\n"
          ],
          "name": "stdout"
        },
        {
          "output_type": "display_data",
          "data": {
            "application/vnd.jupyter.widget-view+json": {
              "model_id": "277d76bcb4ba4fb883c153cf81d6748c",
              "version_minor": 0,
              "version_major": 2
            },
            "text/plain": [
              "HBox(children=(FloatProgress(value=1.0, bar_style='info', max=1.0), HTML(value='')))"
            ]
          },
          "metadata": {
            "tags": []
          }
        },
        {
          "output_type": "stream",
          "text": [
            "Extracting dataset/MNIST/raw/t10k-labels-idx1-ubyte.gz to dataset/MNIST/raw\n",
            "Processing...\n",
            "Done!\n"
          ],
          "name": "stdout"
        },
        {
          "output_type": "stream",
          "text": [
            "/usr/local/lib/python3.6/dist-packages/torchvision/datasets/mnist.py:480: UserWarning: The given NumPy array is not writeable, and PyTorch does not support non-writeable tensors. This means you can write to the underlying (supposedly non-writeable) NumPy array using the tensor. You may want to copy the array to protect its data or make it writeable before converting it to a tensor. This type of warning will be suppressed for the rest of this program. (Triggered internally at  /pytorch/torch/csrc/utils/tensor_numpy.cpp:141.)\n",
            "  return torch.from_numpy(parsed.astype(m[2], copy=False)).view(*s)\n"
          ],
          "name": "stderr"
        }
      ]
    },
    {
      "cell_type": "code",
      "metadata": {
        "id": "MmF7XV6nnwyd"
      },
      "source": [
        "\"\"\"\n",
        "instantiate model\n",
        "\"\"\"\n",
        "\n",
        "model = RNN_LSTM(seq_len, input_size, hidden_size, n_layers, n_classes).to(device)"
      ],
      "execution_count": 11,
      "outputs": []
    },
    {
      "cell_type": "code",
      "metadata": {
        "id": "QHcTSg2vn90D"
      },
      "source": [
        "criterion = nn.CrossEntropyLoss()\n",
        "optimizer = optim.Adam(model.parameters(), lr=learning_rate)"
      ],
      "execution_count": 12,
      "outputs": []
    },
    {
      "cell_type": "code",
      "metadata": {
        "colab": {
          "base_uri": "https://localhost:8080/",
          "height": 1000
        },
        "id": "N-2W3-2aoAln",
        "outputId": "086ab869-5351-4b55-fa9d-202a127c02f6"
      },
      "source": [
        "log_every = 30\n",
        "hist = {\n",
        "    'train_loss': []\n",
        "}\n",
        "\n",
        "for epoch in range(num_epochs):\n",
        "    for batch_idx, (data, targets) in enumerate(train_loader):\n",
        "        # Get data to cuda if possible\n",
        "        data = data.to(device=device).squeeze(1)\n",
        "        targets = targets.to(device=device)\n",
        "\n",
        "        # forward\n",
        "        scores = model(data)\n",
        "        loss = criterion(scores, targets)\n",
        "\n",
        "        # backward\n",
        "        optimizer.zero_grad()\n",
        "        loss.backward()\n",
        "\n",
        "        # gradient descent or adam step\n",
        "        optimizer.step()\n",
        "\n",
        "        # log\n",
        "        if batch_idx % log_every == 0:\n",
        "          print(f\"loss: {loss.item()}\")\n",
        "          hist['train_loss'].append(loss.item())"
      ],
      "execution_count": 13,
      "outputs": [
        {
          "output_type": "stream",
          "text": [
            "\n",
            "\n",
            "loss: 2.273214101791382\n",
            "loss: 2.3035190105438232\n",
            "loss: 2.3096797466278076\n",
            "loss: 2.298494577407837\n",
            "loss: 2.305213451385498\n",
            "loss: 2.3092551231384277\n",
            "loss: 2.308227062225342\n",
            "loss: 2.308842420578003\n",
            "loss: 2.29616641998291\n",
            "loss: 2.309990406036377\n",
            "loss: 2.294562816619873\n",
            "loss: 2.299128293991089\n",
            "loss: 2.3048081398010254\n",
            "loss: 2.29653000831604\n",
            "loss: 2.2987120151519775\n",
            "loss: 2.2983057498931885\n",
            "loss: 2.3067479133605957\n",
            "loss: 2.320047616958618\n",
            "loss: 2.2995145320892334\n",
            "loss: 2.2980661392211914\n",
            "loss: 2.2946083545684814\n",
            "loss: 2.297900676727295\n",
            "loss: 2.2929062843322754\n",
            "loss: 2.3050246238708496\n",
            "loss: 2.2978453636169434\n",
            "loss: 2.2984259128570557\n",
            "loss: 2.2931814193725586\n",
            "loss: 2.3057515621185303\n",
            "loss: 2.2964441776275635\n",
            "loss: 2.3010478019714355\n",
            "loss: 2.3118832111358643\n",
            "loss: 2.308445930480957\n",
            "loss: 2.3086273670196533\n",
            "loss: 2.304434299468994\n",
            "loss: 2.3106014728546143\n",
            "loss: 2.2995400428771973\n",
            "loss: 2.3119447231292725\n",
            "loss: 2.311293840408325\n",
            "loss: 2.2971458435058594\n",
            "loss: 2.2997334003448486\n",
            "loss: 2.317669630050659\n",
            "loss: 2.2965259552001953\n",
            "loss: 2.3004674911499023\n",
            "loss: 2.2989284992218018\n",
            "loss: 2.3068878650665283\n",
            "loss: 2.308882236480713\n",
            "loss: 2.286102533340454\n",
            "loss: 2.3131964206695557\n",
            "loss: 2.285125494003296\n",
            "loss: 2.313150405883789\n",
            "loss: 2.302212715148926\n",
            "loss: 2.3047189712524414\n",
            "loss: 2.301866054534912\n",
            "loss: 2.3012781143188477\n",
            "loss: 2.3044121265411377\n",
            "loss: 2.2981436252593994\n",
            "loss: 2.3102073669433594\n",
            "loss: 2.3008978366851807\n",
            "loss: 2.3020431995391846\n",
            "loss: 2.308652400970459\n",
            "loss: 2.303802251815796\n",
            "loss: 2.307260274887085\n"
          ],
          "name": "stdout"
        },
        {
          "output_type": "error",
          "ename": "KeyboardInterrupt",
          "evalue": "ignored",
          "traceback": [
            "\u001b[0;31m---------------------------------------------------------------------------\u001b[0m",
            "\u001b[0;31mKeyboardInterrupt\u001b[0m                         Traceback (most recent call last)",
            "\u001b[0;32m<ipython-input-13-befb7bd7e07f>\u001b[0m in \u001b[0;36m<module>\u001b[0;34m()\u001b[0m\n\u001b[1;32m     16\u001b[0m         \u001b[0;31m# backward\u001b[0m\u001b[0;34m\u001b[0m\u001b[0;34m\u001b[0m\u001b[0;34m\u001b[0m\u001b[0m\n\u001b[1;32m     17\u001b[0m         \u001b[0moptimizer\u001b[0m\u001b[0;34m.\u001b[0m\u001b[0mzero_grad\u001b[0m\u001b[0;34m(\u001b[0m\u001b[0;34m)\u001b[0m\u001b[0;34m\u001b[0m\u001b[0;34m\u001b[0m\u001b[0m\n\u001b[0;32m---> 18\u001b[0;31m         \u001b[0mloss\u001b[0m\u001b[0;34m.\u001b[0m\u001b[0mbackward\u001b[0m\u001b[0;34m(\u001b[0m\u001b[0;34m)\u001b[0m\u001b[0;34m\u001b[0m\u001b[0;34m\u001b[0m\u001b[0m\n\u001b[0m\u001b[1;32m     19\u001b[0m \u001b[0;34m\u001b[0m\u001b[0m\n\u001b[1;32m     20\u001b[0m         \u001b[0;31m# gradient descent or adam step\u001b[0m\u001b[0;34m\u001b[0m\u001b[0;34m\u001b[0m\u001b[0;34m\u001b[0m\u001b[0m\n",
            "\u001b[0;32m/usr/local/lib/python3.6/dist-packages/torch/tensor.py\u001b[0m in \u001b[0;36mbackward\u001b[0;34m(self, gradient, retain_graph, create_graph)\u001b[0m\n\u001b[1;32m    219\u001b[0m                 \u001b[0mretain_graph\u001b[0m\u001b[0;34m=\u001b[0m\u001b[0mretain_graph\u001b[0m\u001b[0;34m,\u001b[0m\u001b[0;34m\u001b[0m\u001b[0;34m\u001b[0m\u001b[0m\n\u001b[1;32m    220\u001b[0m                 create_graph=create_graph)\n\u001b[0;32m--> 221\u001b[0;31m         \u001b[0mtorch\u001b[0m\u001b[0;34m.\u001b[0m\u001b[0mautograd\u001b[0m\u001b[0;34m.\u001b[0m\u001b[0mbackward\u001b[0m\u001b[0;34m(\u001b[0m\u001b[0mself\u001b[0m\u001b[0;34m,\u001b[0m \u001b[0mgradient\u001b[0m\u001b[0;34m,\u001b[0m \u001b[0mretain_graph\u001b[0m\u001b[0;34m,\u001b[0m \u001b[0mcreate_graph\u001b[0m\u001b[0;34m)\u001b[0m\u001b[0;34m\u001b[0m\u001b[0;34m\u001b[0m\u001b[0m\n\u001b[0m\u001b[1;32m    222\u001b[0m \u001b[0;34m\u001b[0m\u001b[0m\n\u001b[1;32m    223\u001b[0m     \u001b[0;32mdef\u001b[0m \u001b[0mregister_hook\u001b[0m\u001b[0;34m(\u001b[0m\u001b[0mself\u001b[0m\u001b[0;34m,\u001b[0m \u001b[0mhook\u001b[0m\u001b[0;34m)\u001b[0m\u001b[0;34m:\u001b[0m\u001b[0;34m\u001b[0m\u001b[0;34m\u001b[0m\u001b[0m\n",
            "\u001b[0;32m/usr/local/lib/python3.6/dist-packages/torch/autograd/__init__.py\u001b[0m in \u001b[0;36mbackward\u001b[0;34m(tensors, grad_tensors, retain_graph, create_graph, grad_variables)\u001b[0m\n\u001b[1;32m    130\u001b[0m     Variable._execution_engine.run_backward(\n\u001b[1;32m    131\u001b[0m         \u001b[0mtensors\u001b[0m\u001b[0;34m,\u001b[0m \u001b[0mgrad_tensors_\u001b[0m\u001b[0;34m,\u001b[0m \u001b[0mretain_graph\u001b[0m\u001b[0;34m,\u001b[0m \u001b[0mcreate_graph\u001b[0m\u001b[0;34m,\u001b[0m\u001b[0;34m\u001b[0m\u001b[0;34m\u001b[0m\u001b[0m\n\u001b[0;32m--> 132\u001b[0;31m         allow_unreachable=True)  # allow_unreachable flag\n\u001b[0m\u001b[1;32m    133\u001b[0m \u001b[0;34m\u001b[0m\u001b[0m\n\u001b[1;32m    134\u001b[0m \u001b[0;34m\u001b[0m\u001b[0m\n",
            "\u001b[0;31mKeyboardInterrupt\u001b[0m: "
          ]
        }
      ]
    },
    {
      "cell_type": "code",
      "metadata": {
        "colab": {
          "base_uri": "https://localhost:8080/"
        },
        "id": "g7jswigkoDJC",
        "outputId": "c1f62d47-084e-47b9-bd28-eadb450fc3d2"
      },
      "source": [
        "def check_accuracy(loader, model):\n",
        "    if loader.dataset.train:\n",
        "        print(\"Checking accuracy on training data\")\n",
        "    else:\n",
        "        print(\"Checking accuracy on test data\")\n",
        "\n",
        "    num_correct = 0\n",
        "    num_samples = 0\n",
        "\n",
        "    # Set model to eval\n",
        "    model.eval()\n",
        "\n",
        "    with torch.no_grad():\n",
        "        for x, y in loader:\n",
        "            x = x.to(device=device).squeeze(1)\n",
        "            y = y.to(device=device)\n",
        "\n",
        "            scores = model(x)\n",
        "            _, predictions = scores.max(1)\n",
        "            num_correct += (predictions == y).sum()\n",
        "            num_samples += predictions.size(0)\n",
        "\n",
        "        print(\n",
        "            f\"Got {num_correct} / {num_samples} with \\\n",
        "              accuracy {float(num_correct)/float(num_samples)*100:.2f}\"\n",
        "        )\n",
        "    # Set model back to train\n",
        "    model.train()\n",
        "\n",
        "\n",
        "check_accuracy(train_loader, model)\n",
        "check_accuracy(test_loader, model)"
      ],
      "execution_count": null,
      "outputs": [
        {
          "output_type": "stream",
          "text": [
            "Checking accuracy on training data\n",
            "Got 6742 / 60000 with               accuracy 11.24\n",
            "Checking accuracy on test data\n"
          ],
          "name": "stdout"
        }
      ]
    }
  ]
}