{
  "nbformat": 4,
  "nbformat_minor": 0,
  "metadata": {
    "accelerator": "GPU",
    "colab": {
      "name": "rnn.ipynb",
      "provenance": [],
      "authorship_tag": "ABX9TyMnYR2p16rJTjQYhvb592BA",
      "include_colab_link": true
    },
    "kernelspec": {
      "display_name": "Python 3",
      "name": "python3"
    }
  },
  "cells": [
    {
      "cell_type": "markdown",
      "metadata": {
        "id": "view-in-github",
        "colab_type": "text"
      },
      "source": [
        "<a href=\"https://colab.research.google.com/github/rakesh4real/pytorch-examples/blob/main/rnn.ipynb\" target=\"_parent\"><img src=\"https://colab.research.google.com/assets/colab-badge.svg\" alt=\"Open In Colab\"/></a>"
      ]
    },
    {
      "cell_type": "code",
      "metadata": {
        "id": "mMDQ2bGWmAsX"
      },
      "source": [
        "from tqdm import tqdm\n",
        "import torch\n",
        "import torchvision\n",
        "import torch.nn as nn  \n",
        "import torch.optim as optim\n",
        "import torch.nn.functional as F  \n",
        "from torch.utils.data import DataLoader\n",
        "import torchvision.datasets as datasets\n",
        "import torchvision.transforms as transforms"
      ],
      "execution_count": 37,
      "outputs": []
    },
    {
      "cell_type": "code",
      "metadata": {
        "id": "G_4SfU-1nQZ4"
      },
      "source": [
        "device = torch.device(\"cuda\" if torch.cuda.is_available() else \"cpu\")"
      ],
      "execution_count": 38,
      "outputs": []
    },
    {
      "cell_type": "markdown",
      "metadata": {
        "id": "9Zfyh6xQ6h59"
      },
      "source": [
        "---\n",
        "---"
      ]
    },
    {
      "cell_type": "code",
      "metadata": {
        "id": "Yn19mEcMnUFZ"
      },
      "source": [
        "input_size = 28\n",
        "hidden_size = 256\n",
        "n_layers = 2\n",
        "n_classes = 10\n",
        "seq_len = 28\n",
        "learning_rate = 0.005\n",
        "batch_size = 64\n",
        "num_epochs = 2"
      ],
      "execution_count": 39,
      "outputs": []
    },
    {
      "cell_type": "code",
      "metadata": {
        "id": "QPSquaVAnW-5"
      },
      "source": [
        "\"\"\"\n",
        "basic rnn \n",
        "\"\"\"\n",
        "\n",
        "class RNN(nn.Module):\n",
        "  \n",
        "  def __init__(self, seq_length, input_size, hidden_size, n_layers, n_classes):\n",
        "    \"\"\"\n",
        "    :param input_size: num of features of input\n",
        "    \"\"\"\n",
        "    super(RNN, self).__init__()\n",
        "\n",
        "    self.n_layers = n_layers\n",
        "    self.hidden_size = hidden_size\n",
        "\n",
        "    self.rnn = nn.RNN(input_size, self.hidden_size, self.n_layers,\n",
        "                      batch_first = True)\n",
        "    self.fc = nn.Linear(\n",
        "        self.hidden_size*seq_length,\n",
        "        n_classes\n",
        "    )\n",
        "\n",
        "\n",
        "  def forward(self, x):\n",
        "    \"\"\"\n",
        "    :param x: is of shape (batch_size, seq_len, input_size) where `seq_len` is \n",
        "              number of individual sequences and `input_size` is num of features.\n",
        "              For eg.\n",
        "                + In case of text, seq_len is size of word and input_size is\n",
        "                  vocabulary size as it will be ohe\n",
        "                + In case of image, seq_len is height and input_size is width\n",
        "                  (note: same as ohe if you can imagine)\n",
        "\n",
        "                     input size (one-hot vocab size)\n",
        "                   s +-+-+-+-+\n",
        "                   e +-+-+-+-+\n",
        "                   q +-+-+-+-+  ....\n",
        "                     +-+-+-+-+\n",
        "                   l +-+-+-+-+\n",
        "                   e +-+-+-+-+\n",
        "                   n +-+-+-+-+\n",
        "                     +-+-+-+-+\n",
        "\n",
        "    \"\"\"\n",
        "\n",
        "    # 3-D: (n_layers, bath_size, hidden_size)\n",
        "    h0 = torch.zeros(\n",
        "        (self.n_layers, x.shape[0], self.hidden_size)\n",
        "    ).to(device)\n",
        "\n",
        "    # pass\n",
        "    out, _ = self.rnn(x, h0)\n",
        "\n",
        "    # classification layer on output of last time step\n",
        "    out = out.reshape(out.shape[0], -1) # flatten\n",
        "    out = self.fc(out)\n",
        "    \n",
        "    return out"
      ],
      "execution_count": 56,
      "outputs": []
    },
    {
      "cell_type": "code",
      "metadata": {
        "colab": {
          "base_uri": "https://localhost:8080/"
        },
        "id": "6B-8A_16r2SZ",
        "outputId": "717cae0d-668d-4151-aeb0-9e2bfd0d6991"
      },
      "source": [
        "# test\n",
        "model = RNN(100, input_size, n_layers, hidden_size, n_classes).to(device)\n",
        "test_batch_seq = torch.rand(64, 100, 28).to(device)\n",
        "\n",
        "model(test_batch_seq).shape"
      ],
      "execution_count": 41,
      "outputs": [
        {
          "output_type": "execute_result",
          "data": {
            "text/plain": [
              "torch.Size([64, 10])"
            ]
          },
          "metadata": {
            "tags": []
          },
          "execution_count": 41
        }
      ]
    },
    {
      "cell_type": "code",
      "metadata": {
        "id": "Tgunbrx1xFE0"
      },
      "source": [
        ""
      ],
      "execution_count": 41,
      "outputs": []
    },
    {
      "cell_type": "code",
      "metadata": {
        "id": "bnroSlLknj3z"
      },
      "source": [
        "\"\"\"\n",
        "rnn gru\n",
        "\n",
        "Only change required is `self.rnn = nn.GRU ...`\n",
        "\"\"\"\n",
        "\n",
        "class RNN_GRU(nn.Module):\n",
        "  \n",
        "  def __init__(self, seq_length, input_size, hidden_size, n_layers, n_classes):\n",
        "    \"\"\"\n",
        "    :param input_size: num of features of input\n",
        "    \"\"\"\n",
        "    super(RNN_GRU, self).__init__()\n",
        "\n",
        "    self.n_layers = n_layers\n",
        "    self.hidden_size = hidden_size\n",
        "\n",
        "    self.rnn = nn.GRU(input_size, self.hidden_size, self.n_layers,\n",
        "                      batch_first = True)\n",
        "    self.fc = nn.Linear(\n",
        "        self.hidden_size*seq_length,\n",
        "        n_classes\n",
        "    )\n",
        "\n",
        "\n",
        "  def forward(self, x):\n",
        "    \"\"\"\n",
        "    :param x: is of shape (batch_size, seq_len, input_size) where `seq_len` is \n",
        "              number of individual sequences and `input_size` is num of features.\n",
        "              For eg.\n",
        "                + In case of text, seq_len is size of word and input_size is\n",
        "                  vocabulary size as it will be ohe\n",
        "                + In case of image, seq_len is height and input_size is width\n",
        "                  (note: same as ohe if you can imagine)\n",
        "\n",
        "                     input size (one-hot vocab size)\n",
        "                   s +-+-+-+-+\n",
        "                   e +-+-+-+-+\n",
        "                   q +-+-+-+-+  ....\n",
        "                     +-+-+-+-+\n",
        "                   l +-+-+-+-+\n",
        "                   e +-+-+-+-+\n",
        "                   n +-+-+-+-+\n",
        "                     +-+-+-+-+\n",
        "\n",
        "    \"\"\"\n",
        "\n",
        "    # 3-D: (n_layers, bath_size, hidden_size)\n",
        "    h0 = torch.zeros(\n",
        "        (self.n_layers, x.shape[0], self.hidden_size)\n",
        "    ).to(device)\n",
        "\n",
        "    # pass\n",
        "    out, _ = self.rnn(x, h0)\n",
        "\n",
        "    # classification layer on output of last time step\n",
        "    out = out.reshape(out.shape[0], -1) # flatten\n",
        "    out = self.fc(out)\n",
        "    \n",
        "    return out\n"
      ],
      "execution_count": 42,
      "outputs": []
    },
    {
      "cell_type": "code",
      "metadata": {
        "colab": {
          "base_uri": "https://localhost:8080/"
        },
        "id": "ldqRj6mJr1Y2",
        "outputId": "6a9f34a6-c42a-4e7a-d4f7-641a94fa78b4"
      },
      "source": [
        "# test\n",
        "model = RNN_GRU(100, input_size, n_layers, hidden_size, n_classes).to(device)\n",
        "test_batch_seq = torch.rand(64, 100, 28).to(device)\n",
        "\n",
        "model(test_batch_seq).shape"
      ],
      "execution_count": 43,
      "outputs": [
        {
          "output_type": "execute_result",
          "data": {
            "text/plain": [
              "torch.Size([64, 10])"
            ]
          },
          "metadata": {
            "tags": []
          },
          "execution_count": 43
        }
      ]
    },
    {
      "cell_type": "markdown",
      "metadata": {
        "id": "7IdBgOBN2L5m"
      },
      "source": [
        "**Stacked RNN with different hidden size at each layer**\n",
        "\n",
        "```\n",
        "import torch \n",
        "from torch import nn\n",
        "from torch.autograd import Variable\n",
        "\n",
        "# layer1\n",
        "# input_dim=10, output_dim=20\n",
        "rnn1 = nn.LSTM(10, 20, 1)\n",
        "input = Variable(torch.randn(5, 3, 10))\n",
        "output1, hn = rnn1(input)\n",
        "\n",
        "# layer2\n",
        "# input_dim=20 output_dim=30\n",
        "rnn2 = nn.LSTM(20, 30, 1)\n",
        "output2, hn2 = rnn2(output1) \n",
        "```"
      ]
    },
    {
      "cell_type": "code",
      "metadata": {
        "id": "DlGviErxnmNE"
      },
      "source": [
        "\"\"\"\n",
        "rnn lstm\n",
        "\n",
        "only two differences compared to above code:\n",
        "  1. self.lstm = nn.LSTM( ...\n",
        "  2. extra input (memory cells) to lstm\n",
        "\"\"\"\n",
        "\n",
        "\"\"\"\n",
        "rnn gru\n",
        "\n",
        "Only change required is `self.rnn = nn.GRU ...`\n",
        "\"\"\"\n",
        "\n",
        "class RNN_LSTM(nn.Module):\n",
        "  \n",
        "  def __init__(self, seq_length, input_size, hidden_size, n_layers, n_classes):\n",
        "    \"\"\"\n",
        "    :param input_size: num of features of input\n",
        "    \"\"\"\n",
        "    super(RNN_LSTM, self).__init__()\n",
        "\n",
        "    self.n_layers = n_layers\n",
        "    self.hidden_size = hidden_size\n",
        "\n",
        "    self.lstm = nn.LSTM(input_size, self.hidden_size, self.n_layers,\n",
        "                      batch_first = True)\n",
        "    self.fc = nn.Linear(\n",
        "        self.hidden_size*seq_length,\n",
        "        n_classes\n",
        "    )\n",
        "\n",
        "\n",
        "  def forward(self, x):\n",
        "    \"\"\"\n",
        "    :param x: is of shape (batch_size, seq_len, input_size) where `seq_len` is \n",
        "              number of individual sequences and `input_size` is num of features.\n",
        "              For eg.\n",
        "                + In case of text, seq_len is size of word and input_size is\n",
        "                  vocabulary size as it will be ohe\n",
        "                + In case of image, seq_len is height and input_size is width\n",
        "                  (note: same as ohe if you can imagine)\n",
        "\n",
        "                     input size (one-hot vocab size)\n",
        "                   s +-+-+-+-+\n",
        "                   e +-+-+-+-+\n",
        "                   q +-+-+-+-+  ....\n",
        "                     +-+-+-+-+\n",
        "                   l +-+-+-+-+\n",
        "                   e +-+-+-+-+\n",
        "                   n +-+-+-+-+\n",
        "                     +-+-+-+-+\n",
        "\n",
        "    \"\"\"\n",
        "\n",
        "    # 3-D: (n_layers, bath_size, hidden_size)\n",
        "    h0 = torch.zeros(\n",
        "        (self.n_layers, x.shape[0], self.hidden_size)\n",
        "    ).to(device)\n",
        "    c0 = torch.zeros(\n",
        "        (self.n_layers, x.shape[0], self.hidden_size)\n",
        "    ).to(device)\n",
        "\n",
        "    # pass\n",
        "    out, _ = self.lstm(\n",
        "        x, (h0, c0)\n",
        "    ) # out: tensor of shape (batch_size, seq_length, hidden_size)\n",
        "\n",
        "    # classification layer on output of last time step\n",
        "    out = out.reshape(out.shape[0], -1) # flatten\n",
        "    out = self.fc(out)\n",
        "    \n",
        "    return out"
      ],
      "execution_count": 46,
      "outputs": []
    },
    {
      "cell_type": "code",
      "metadata": {
        "colab": {
          "base_uri": "https://localhost:8080/"
        },
        "id": "PsmTHk3_6CuL",
        "outputId": "5bceacc9-6dd6-4445-c56e-697b8ed2bc6b"
      },
      "source": [
        "# test\n",
        "model = RNN_LSTM(100, input_size, n_layers, hidden_size, n_classes).to(device)\n",
        "test_batch_seq = torch.rand(64, 100, 28).to(device)\n",
        "\n",
        "model(test_batch_seq).shape"
      ],
      "execution_count": 47,
      "outputs": [
        {
          "output_type": "execute_result",
          "data": {
            "text/plain": [
              "torch.Size([64, 10])"
            ]
          },
          "metadata": {
            "tags": []
          },
          "execution_count": 47
        }
      ]
    },
    {
      "cell_type": "markdown",
      "metadata": {
        "id": "kaWWOckM6bG-"
      },
      "source": [
        "---\n",
        "---"
      ]
    },
    {
      "cell_type": "code",
      "metadata": {
        "id": "4QLKTGB1noUn"
      },
      "source": [
        "\"\"\"\n",
        "load data\n",
        "\"\"\"\n",
        "\n",
        "train_dataset = datasets.MNIST(root=\"dataset/\", train=True, transform=transforms.ToTensor(), download=True)\n",
        "test_dataset = datasets.MNIST(root=\"dataset/\", train=False, transform=transforms.ToTensor(), download=True)\n",
        "\n",
        "train_loader = DataLoader(dataset=train_dataset, batch_size=batch_size, shuffle=True)\n",
        "test_loader = DataLoader(dataset=test_dataset, batch_size=batch_size, shuffle=True)"
      ],
      "execution_count": 48,
      "outputs": []
    },
    {
      "cell_type": "code",
      "metadata": {
        "id": "MmF7XV6nnwyd"
      },
      "source": [
        "\"\"\"\n",
        "instantiate model\n",
        "\"\"\"\n",
        "#model = RNN(seq_len, input_size, hidden_size, n_layers, n_classes).to(device)\n",
        "model = RNN_LSTM(seq_len, input_size, hidden_size, n_layers, n_classes).to(device)"
      ],
      "execution_count": 61,
      "outputs": []
    },
    {
      "cell_type": "code",
      "metadata": {
        "id": "QHcTSg2vn90D"
      },
      "source": [
        "criterion = nn.CrossEntropyLoss()\n",
        "optimizer = optim.Adam(model.parameters(), lr=learning_rate)"
      ],
      "execution_count": 62,
      "outputs": []
    },
    {
      "cell_type": "code",
      "metadata": {
        "colab": {
          "base_uri": "https://localhost:8080/"
        },
        "id": "N-2W3-2aoAln",
        "outputId": "e073e37c-6828-48b9-a231-c97a19ed2246"
      },
      "source": [
        "log_every = 1\n",
        "hist = {\n",
        "    'train_loss': []\n",
        "}\n",
        "\n",
        "for epoch in range(num_epochs):\n",
        "    for batch_idx, (data, targets) in enumerate(train_loader):\n",
        "        # Get data to cuda if possible\n",
        "        data = data.to(device=device).squeeze(1)\n",
        "        targets = targets.to(device=device)\n",
        "\n",
        "        # forward\n",
        "        scores = model(data)\n",
        "        loss = criterion(scores, targets)\n",
        "\n",
        "        # backward\n",
        "        optimizer.zero_grad()\n",
        "        loss.backward()\n",
        "\n",
        "        # gradient descent or adam step\n",
        "        optimizer.step()\n",
        "\n",
        "    # log \n",
        "    # ======================================================\n",
        "    if epoch % log_every == 0:\n",
        "      print(f\"loss: {loss.item()}\")\n",
        "      hist['train_loss'].append(loss.item())"
      ],
      "execution_count": 63,
      "outputs": [
        {
          "output_type": "stream",
          "text": [
            "loss: 0.01947651244699955\n",
            "loss: 0.0009912042878568172\n"
          ],
          "name": "stdout"
        }
      ]
    },
    {
      "cell_type": "code",
      "metadata": {
        "id": "g7jswigkoDJC",
        "colab": {
          "base_uri": "https://localhost:8080/"
        },
        "outputId": "d8e2d6fd-5d4b-4621-e44b-370d07d428ad"
      },
      "source": [
        "def check_accuracy(loader, model):\n",
        "    if loader.dataset.train:\n",
        "        print(\"Checking accuracy on training data\")\n",
        "    else:\n",
        "        print(\"Checking accuracy on test data\")\n",
        "\n",
        "    num_correct = 0\n",
        "    num_samples = 0\n",
        "\n",
        "    # Set model to eval\n",
        "    model.eval()\n",
        "\n",
        "    with torch.no_grad():\n",
        "        for x, y in loader:\n",
        "            x = x.to(device=device).squeeze(1)\n",
        "            y = y.to(device=device)\n",
        "\n",
        "            scores = model(x)\n",
        "            _, predictions = scores.max(1)\n",
        "            num_correct += (predictions == y).sum()\n",
        "            num_samples += predictions.size(0)\n",
        "\n",
        "        print(\n",
        "            f\"Got {num_correct} / {num_samples} with \\\n",
        "              accuracy {float(num_correct)/float(num_samples)*100:.2f}\"\n",
        "        )\n",
        "    # Set model back to train\n",
        "    model.train()\n",
        "\n",
        "check_accuracy(train_loader, model)\n",
        "check_accuracy(test_loader, model)"
      ],
      "execution_count": 64,
      "outputs": [
        {
          "output_type": "stream",
          "text": [
            "Checking accuracy on training data\n",
            "Got 59208 / 60000 with               accuracy 98.68\n",
            "Checking accuracy on test data\n",
            "Got 9844 / 10000 with               accuracy 98.44\n"
          ],
          "name": "stdout"
        }
      ]
    },
    {
      "cell_type": "code",
      "metadata": {
        "id": "-8MiPAg5lmtX"
      },
      "source": [
        ""
      ],
      "execution_count": null,
      "outputs": []
    }
  ]
}